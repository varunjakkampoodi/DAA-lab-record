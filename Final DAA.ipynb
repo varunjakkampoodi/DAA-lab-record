{
 "cells": [
  {
   "cell_type": "code",
   "execution_count": 1,
   "id": "e5e06a72",
   "metadata": {},
   "outputs": [
    {
     "name": "stdout",
     "output_type": "stream",
     "text": [
      "1 NAND 0 = 1\n",
      "0 NAND 1 = 1\n",
      "1 NAND 1 = 0\n",
      "0 NAND 0 = 1\n",
      "1 NAND 0 = 1\n"
     ]
    }
   ],
   "source": [
    "a = [1, 0, 1, 0, 1]\n",
    "b = [0, 1, 1, 0, 0]\n",
    "def nand(x, y):\n",
    "    return 0 if x == 1 and y == 1 else 1\n",
    "results = [nand(x, y) for x, y in zip(a, b)]\n",
    "for x, y, ans in zip(a, b, results):\n",
    "    print(f\"{x} NAND {y} = {ans}\")"
   ]
  },
  {
   "cell_type": "code",
   "execution_count": 2,
   "id": "cd5c933f",
   "metadata": {},
   "outputs": [
    {
     "name": "stdout",
     "output_type": "stream",
     "text": [
      "1 NOR 0 = False\n",
      "0 NOR 1 = False\n",
      "1 NOR 1 = False\n",
      "0 NOR 0 = True\n",
      "1 NOR 0 = False\n"
     ]
    }
   ],
   "source": [
    "a = [1, 0, 1, 0, 1]\n",
    "b = [0, 1, 1, 0, 0]\n",
    "for x, y in zip(a, b):\n",
    "    ans = not (x or y)\n",
    "    print(f\"{x} NOR {y} = {ans}\")"
   ]
  },
  {
   "cell_type": "code",
   "execution_count": 3,
   "id": "ac741840",
   "metadata": {},
   "outputs": [
    {
     "name": "stdout",
     "output_type": "stream",
     "text": [
      "Enter first input (0 or 1): 1\n",
      "Enter second input (0 or 1): 1\n",
      "Enter carry input (0 or 1): 1\n",
      "Sum: 1\n",
      "Carry: 1\n"
     ]
    }
   ],
   "source": [
    "def full_adder(a, b, c_in):\n",
    "    sum_out = (a ^ b) ^ c_in\n",
    "    carry_out = ((a & b) | (b & c_in) | (c_in & a))\n",
    "    return sum_out, carry_out\n",
    "\n",
    "def main():\n",
    "    a = int(input(\"Enter first input (0 or 1): \"))\n",
    "    b = int(input(\"Enter second input (0 or 1): \"))\n",
    "    c_in = int(input(\"Enter carry input (0 or 1): \"))\n",
    "    \n",
    "    if a not in (0, 1) or b not in (0, 1) or c_in not in (0, 1):\n",
    "        print(\"Invalid input. Please enter 0 or 1.\")\n",
    "        return\n",
    "    \n",
    "    sum_out, carry_out = full_adder(a, b, c_in)\n",
    "    print(f\"Sum: {sum_out}\")\n",
    "    print(f\"Carry: {carry_out}\")\n",
    "\n",
    "if __name__ == \"__main__\":\n",
    "    main()\n"
   ]
  },
  {
   "cell_type": "code",
   "execution_count": 4,
   "id": "316b3767",
   "metadata": {},
   "outputs": [
    {
     "name": "stdout",
     "output_type": "stream",
     "text": [
      "Enter first binary number: 1\n",
      "Enter second binary number: 0\n",
      "Binary Sum: 1\n"
     ]
    }
   ],
   "source": [
    "def binary_addition(a, b):\n",
    "    carry = 0\n",
    "    result = []\n",
    "\n",
    "    for bit_a, bit_b in zip(a[::-1], b[::-1]):\n",
    "        sum_bit = (int(bit_a) ^ int(bit_b)) ^ carry\n",
    "        carry = (int(bit_a) & int(bit_b)) | (carry & (int(bit_a) ^ int(bit_b)))\n",
    "        result.append(str(sum_bit))\n",
    "\n",
    "    if carry:\n",
    "        result.append('1')\n",
    "\n",
    "    return ''.join(result[::-1])\n",
    "\n",
    "a = input(\"Enter first binary number: \")\n",
    "b = input(\"Enter second binary number: \")\n",
    "result = binary_addition(a, b)\n",
    "print(\"Binary Sum:\", result)\n"
   ]
  },
  {
   "cell_type": "code",
   "execution_count": 5,
   "id": "7214e9a2",
   "metadata": {},
   "outputs": [
    {
     "name": "stdout",
     "output_type": "stream",
     "text": [
      "Enter a binary number: 1\n",
      "Decimal equivalent: 1\n"
     ]
    }
   ],
   "source": [
    "def binary_to_decimal(binary):\n",
    "    decimal = 0\n",
    "    binary = binary[::-1]  # Reverse the binary string for easier calculation\n",
    "\n",
    "    for i, bit in enumerate(binary):\n",
    "        decimal += int(bit) * (2 ** i)\n",
    "\n",
    "    return decimal\n",
    "\n",
    "binary_input = input(\"Enter a binary number: \")\n",
    "decimal_output = binary_to_decimal(binary_input)\n",
    "print(\"Decimal equivalent:\", decimal_output)\n"
   ]
  },
  {
   "cell_type": "code",
   "execution_count": 6,
   "id": "b1a5af6f",
   "metadata": {},
   "outputs": [
    {
     "name": "stdout",
     "output_type": "stream",
     "text": [
      "Bubble Sorted list: [0, 0, 0, 0, 0, 0, 1, 1, 1, 1, 2, 2, 2]\n"
     ]
    }
   ],
   "source": [
    "def bubble_sort(arr):\n",
    "    n = len(arr)\n",
    "    for i in range(n):\n",
    "        swapped = False\n",
    "        for j in range(0, n - i - 1):\n",
    "            if arr[j] > arr[j + 1]:\n",
    "                arr[j], arr[j + 1] = arr[j + 1], arr[j]\n",
    "                swapped = True\n",
    "        \n",
    "        if not swapped:\n",
    "            break\n",
    "my_list = [1,1,0,0,2,2,0,0,1,0,2,0,1]\n",
    "bubble_sort(my_list)\n",
    "print(\"Bubble Sorted list:\", my_list)"
   ]
  },
  {
   "cell_type": "code",
   "execution_count": 7,
   "id": "c0bfbff6",
   "metadata": {},
   "outputs": [
    {
     "name": "stdout",
     "output_type": "stream",
     "text": [
      "selection sorted list: [0, 0, 0, 0, 0, 0, 1, 1, 1, 1, 2, 2, 2]\n"
     ]
    }
   ],
   "source": [
    "def selection_sort(arr):\n",
    "    n = len(arr)\n",
    "    for i in range(n):\n",
    "        min_index = i\n",
    "        for j in range(i + 1, n):\n",
    "            if arr[j] < arr[min_index]:\n",
    "                min_index = j\n",
    "        \n",
    "        \n",
    "        arr[i], arr[min_index] = arr[min_index], arr[i]\n",
    "\n",
    "\n",
    "arr = [1,1,0,0,2,2,0,0,1,0,2,0,1]\n",
    "selection_sort(arr)\n",
    "print(\"selection sorted list:\", arr)"
   ]
  },
  {
   "cell_type": "code",
   "execution_count": 8,
   "id": "f5c0b573",
   "metadata": {},
   "outputs": [
    {
     "name": "stdout",
     "output_type": "stream",
     "text": [
      "ASRITH\n"
     ]
    }
   ],
   "source": [
    "def to_uppercase(name):\n",
    "    uppercase_name = \"\"\n",
    "    for char in name:\n",
    "        if 'a' <= char <= 'z':\n",
    "            uppercase_char = chr(ord(char) - ord('a') + ord('A'))\n",
    "            uppercase_name += uppercase_char\n",
    "        else:  \n",
    "            uppercase_name += char\n",
    "    return uppercase_name\n",
    "\n",
    "name = \"Asrith\"\n",
    "capitalized_name = to_uppercase(name)\n",
    "print(capitalized_name)"
   ]
  },
  {
   "cell_type": "code",
   "execution_count": 9,
   "id": "2290b2e2",
   "metadata": {},
   "outputs": [
    {
     "name": "stdout",
     "output_type": "stream",
     "text": [
      "True\n"
     ]
    }
   ],
   "source": [
    "class ListNode:\n",
    "    def _init_(self,key):\n",
    "        self.key = key\n",
    "        self.next = None\n",
    "\n",
    "def has_loop(head):\n",
    "    if not head or not head.next:\n",
    "        return False\n",
    "\n",
    "    slow = head\n",
    "    fast = head\n",
    "\n",
    "    while fast and fast.next:\n",
    "        slow = slow.next\n",
    "        fast = fast.next.next\n",
    "\n",
    "        if slow == fast:\n",
    "            return True\n",
    "\n",
    "    return False\n",
    "    \n",
    "\n",
    "head = ListNode()\n",
    "node2 = ListNode()\n",
    "node3 = ListNode()\n",
    "node4 = ListNode()\n",
    "\n",
    "head.next = node2\n",
    "node2.next = node3\n",
    "node3.next = node4\n",
    "node4.next = node2\n",
    "\n",
    "print(has_loop(head))"
   ]
  },
  {
   "cell_type": "code",
   "execution_count": 10,
   "id": "159a77e4",
   "metadata": {},
   "outputs": [
    {
     "name": "stdout",
     "output_type": "stream",
     "text": [
      "[1, 2, 3, 4, 5]\n"
     ]
    }
   ],
   "source": [
    "original_list = [1, 2, 2, 3, 4, 4, 5]\n",
    "unique_list = []\n",
    "\n",
    "for item in original_list:\n",
    "    if item not in unique_list:\n",
    "        unique_list.append(item)\n",
    "\n",
    "print(unique_list)"
   ]
  },
  {
   "cell_type": "code",
   "execution_count": 11,
   "id": "4a0dadd9",
   "metadata": {},
   "outputs": [
    {
     "name": "stdout",
     "output_type": "stream",
     "text": [
      "Enter a string: Asrith\n",
      "Asrith is not a palindrome.\n"
     ]
    }
   ],
   "source": [
    "def is_palindrome(s):\n",
    "    return s == s[::-1]\n",
    "input_string = input(\"Enter a string: \")\n",
    "if is_palindrome(input_string):\n",
    "    print(f\"{input_string} is a palindrome.\")\n",
    "else:\n",
    "    print(f\"{input_string} is not a palindrome.\")"
   ]
  },
  {
   "cell_type": "code",
   "execution_count": 12,
   "id": "50b413cc",
   "metadata": {},
   "outputs": [
    {
     "name": "stdout",
     "output_type": "stream",
     "text": [
      "abc\n",
      "acb\n",
      "bac\n",
      "bca\n",
      "cab\n",
      "cba\n"
     ]
    }
   ],
   "source": [
    "from itertools import permutations\n",
    "\n",
    "elements = \"abc\"\n",
    "length = 3  # Length of each permutation\n",
    "\n",
    "perm = permutations(elements, length)\n",
    "\n",
    "for p in perm:\n",
    "    print(\"\".join(p))"
   ]
  },
  {
   "cell_type": "code",
   "execution_count": 13,
   "id": "4ad98ac1",
   "metadata": {},
   "outputs": [
    {
     "name": "stdout",
     "output_type": "stream",
     "text": [
      "ab\n",
      "ac\n",
      "bc\n"
     ]
    }
   ],
   "source": [
    "from itertools import combinations\n",
    "\n",
    "elements = \"abc\"\n",
    "length = 2  # Length of each combination\n",
    "\n",
    "comb = combinations(elements, length)\n",
    "\n",
    "for c in comb:\n",
    "    print(\"\".join(c))"
   ]
  },
  {
   "cell_type": "code",
   "execution_count": 14,
   "id": "a6e6bbf7",
   "metadata": {},
   "outputs": [
    {
     "name": "stdout",
     "output_type": "stream",
     "text": [
      "Enter a string: mom\n",
      "mom is a palindrome.\n"
     ]
    }
   ],
   "source": [
    "def is_palindrome(s):\n",
    "    s = s.replace(\" \", \"\").lower()\n",
    "    start = 0\n",
    "    end = len(s) - 1\n",
    "    while start < end:\n",
    "        if s[start] != s[end]:\n",
    "            return False\n",
    "        start += 1\n",
    "        end -= 1\n",
    "    return True\n",
    "input_string = input(\"Enter a string: \")\n",
    "\n",
    "if is_palindrome(input_string):\n",
    "    print(f\"{input_string} is a palindrome.\")\n",
    "else:\n",
    "    print(f\"{input_string} is not a palindrome.\")"
   ]
  },
  {
   "cell_type": "code",
   "execution_count": 15,
   "id": "c5270e6e",
   "metadata": {},
   "outputs": [
    {
     "name": "stdout",
     "output_type": "stream",
     "text": [
      "(8, 4)\n",
      "(8, 2)\n",
      "(8, 1)\n",
      "(4, 2)\n",
      "(4, 1)\n",
      "(2, 1)\n"
     ]
    }
   ],
   "source": [
    "numbers = [8, 4, 2, 1]\n",
    "pairs = []\n",
    "for i in range(len(numbers)):\n",
    "    for j in range(i + 1, len(numbers)):\n",
    "        if numbers[i] > numbers[j]:\n",
    "            pairs.append((numbers[i], numbers[j]))\n",
    "for pair in pairs:\n",
    "    print(pair)"
   ]
  },
  {
   "cell_type": "code",
   "execution_count": 16,
   "id": "b9f63647",
   "metadata": {},
   "outputs": [
    {
     "name": "stdout",
     "output_type": "stream",
     "text": [
      "(8, 1)\n",
      "(9, 1)\n",
      "(16, 1)\n"
     ]
    }
   ],
   "source": [
    "numbers = [8, 9, 16, 1]\n",
    "pairs = []\n",
    "for i in range(len(numbers)):\n",
    "    for j in range(i + 1, len(numbers)):\n",
    "        if numbers[i] > numbers[j]:\n",
    "            pairs.append((numbers[i], numbers[j]))\n",
    "for pair in pairs:\n",
    "    print(pair)"
   ]
  },
  {
   "cell_type": "code",
   "execution_count": 18,
   "id": "0434fd24",
   "metadata": {},
   "outputs": [
    {
     "name": "stdout",
     "output_type": "stream",
     "text": [
      "Both the trees are: True\n"
     ]
    }
   ],
   "source": [
    "class TreeNode:\n",
    "    def __init__(self, value):\n",
    "        self.value = value\n",
    "        self.left = None\n",
    "        self.right = None\n",
    "\n",
    "def equal(tree1, tree2):\n",
    "    if tree1 is None and tree2 is None:\n",
    "        return True\n",
    "    if tree1 is None or tree2 is None:\n",
    "        return False\n",
    "\n",
    "    if tree1.value != tree2.value:\n",
    "        return False\n",
    "\n",
    "    return equal(tree1.left, tree2.left) and equal(tree1.right, tree2.right)\n",
    "\n",
    "node1 = TreeNode(1)\n",
    "node1.left = TreeNode(2)\n",
    "node1.right = TreeNode(3)\n",
    "\n",
    "node2 = TreeNode(1)\n",
    "node2.left = TreeNode(2)\n",
    "node2.right = TreeNode(3)\n",
    "\n",
    "answer = equal(node1, node2)\n",
    "print(\"Both the trees are:\", answer)\n"
   ]
  },
  {
   "cell_type": "code",
   "execution_count": 19,
   "id": "14d9cbc4",
   "metadata": {},
   "outputs": [
    {
     "name": "stdout",
     "output_type": "stream",
     "text": [
      "the yks is eulb\n"
     ]
    }
   ],
   "source": [
    "def reverse_even_words(sentence):\n",
    "    words = sentence.split()\n",
    "    for i in range(len(words)):\n",
    "        if i % 2 == 1: \n",
    "            words[i] = words[i][::-1]  \n",
    "    reversed_sentence = ' '.join(words)\n",
    "    return reversed_sentence\n",
    "sentence = \"the sky is blue\"\n",
    "reversed_result = reverse_even_words(sentence)\n",
    "print(reversed_result)"
   ]
  },
  {
   "cell_type": "code",
   "execution_count": 20,
   "id": "7ebcab92",
   "metadata": {},
   "outputs": [
    {
     "name": "stdout",
     "output_type": "stream",
     "text": [
      "3\n",
      "9\n",
      "12\n",
      "6\n",
      "18\n",
      "Product of divisible numbers: 34992\n",
      "Numbers are: [3, 9, 12, 6, 18]\n"
     ]
    }
   ],
   "source": [
    "matrix = [\n",
    "    [1, 3, 2],\n",
    "    [9, 4, 12],\n",
    "    [6, 8, 18]\n",
    "]\n",
    "divisible_numbers = []\n",
    "for row in matrix:\n",
    "    for num in row:\n",
    "        if num % 3 == 0:\n",
    "            print(num)\n",
    "            divisible_numbers.append(num)\n",
    "product=1\n",
    "for num in divisible_numbers:\n",
    "    product *= num\n",
    "print(\"Product of divisible numbers:\", product)\n",
    "if product > 50:\n",
    "    print(\"Numbers are:\", divisible_numbers)"
   ]
  },
  {
   "cell_type": "code",
   "execution_count": 21,
   "id": "eaa1073d",
   "metadata": {},
   "outputs": [
    {
     "name": "stdout",
     "output_type": "stream",
     "text": [
      "The matrix is not idempotent.\n"
     ]
    }
   ],
   "source": [
    "import numpy as np\n",
    "\n",
    "A = np.array([[2, -2, 4],\n",
    "              [-1, 3, 4],\n",
    "              [1, -2, -3]])\n",
    "\n",
    "A_squared = np.dot(A, A)\n",
    "if np.array_equal(A, A_squared):\n",
    "    print(\"The matrix is idempotent.\")\n",
    "else:\n",
    "    print(\"The matrix is not idempotent.\")"
   ]
  },
  {
   "cell_type": "code",
   "execution_count": 22,
   "id": "9ac7263f",
   "metadata": {},
   "outputs": [
    {
     "name": "stdout",
     "output_type": "stream",
     "text": [
      "The matrix is idempotent.\n"
     ]
    }
   ],
   "source": [
    "def is_idempotent(matrix):\n",
    "    \n",
    "    n = len(matrix)\n",
    "    if n != len(matrix[0]):\n",
    "        return False\n",
    "\n",
    " \n",
    "    product = [[0] * n for _ in range(n)]\n",
    "    for i in range(n):\n",
    "        for j in range(n):\n",
    "            for k in range(n):\n",
    "                product[i][j] += matrix[i][k] * matrix[k][j]\n",
    "\n",
    "   \n",
    "    for i in range(n):\n",
    "        for j in range(n):\n",
    "            if product[i][j] != matrix[i][j]:\n",
    "                return False\n",
    "\n",
    "    return True\n",
    "matrix = [\n",
    "    [2, -2,-4],\n",
    "    [-1, 3, 4],\n",
    "    [1, -2, -3]\n",
    "]\n",
    "\n",
    "if is_idempotent(matrix):\n",
    "    print(\"The matrix is idempotent.\")\n",
    "else:\n",
    "    print(\"The matrix is not idempotent.\")"
   ]
  },
  {
   "cell_type": "code",
   "execution_count": 23,
   "id": "f1a68428",
   "metadata": {},
   "outputs": [
    {
     "name": "stdout",
     "output_type": "stream",
     "text": [
      "[3, 6, 9]\n",
      "[2, 5, 8]\n",
      "[1, 4, 7]\n"
     ]
    }
   ],
   "source": [
    "def rotate_90_degrees_counterclockwise(matrix):\n",
    "    n = len(matrix)\n",
    "    rotated_matrix = [[0] * n for _ in range(n)]\n",
    "    for i in range(n):\n",
    "        for j in range(n):\n",
    "            rotated_matrix[n - 1 - j][i] = matrix[i][j]\n",
    "    return rotated_matrix\n",
    "matrix = [\n",
    "    [1, 2, 3],\n",
    "    [4, 5, 6],\n",
    "    [7, 8, 9]\n",
    "]\n",
    "rotated_matrix = rotate_90_degrees_counterclockwise(matrix)\n",
    "for row in rotated_matrix:\n",
    "    print(row)"
   ]
  },
  {
   "cell_type": "code",
   "execution_count": 24,
   "id": "2fda45b2",
   "metadata": {},
   "outputs": [
    {
     "name": "stdout",
     "output_type": "stream",
     "text": [
      "The row with the highest number of 1's is Row 4 with 4 1's.\n"
     ]
    }
   ],
   "source": [
    "matrix = [\n",
    "    [0, 0, 1, 0],\n",
    "    [1, 1, 0, 1],\n",
    "    [0, 0, 0, 0],\n",
    "    [1, 1, 1, 1]\n",
    "]\n",
    "\n",
    "max_ones_count = 0 \n",
    "row_with_max_ones = -1  \n",
    "\n",
    "for i, row in enumerate(matrix):\n",
    "    ones_count = sum(row)\n",
    "    if ones_count > max_ones_count:\n",
    "        max_ones_count = ones_count\n",
    "        row_with_max_ones = i\n",
    "\n",
    "print(f\"The row with the highest number of 1's is Row {row_with_max_ones + 1} with {max_ones_count} 1's.\")\n"
   ]
  },
  {
   "cell_type": "code",
   "execution_count": 25,
   "id": "1eb2852a",
   "metadata": {},
   "outputs": [
    {
     "name": "stdout",
     "output_type": "stream",
     "text": [
      "Sum of the middle row and column: 56\n"
     ]
    }
   ],
   "source": [
    "import numpy as np\n",
    "matrix = np.array([[1, 2, 3, 4, 5],\n",
    "                  [6, 7, 8, 9, 10],\n",
    "                  [11, 12, 13, 14, 15]])\n",
    "middle_row = matrix[1, :]\n",
    "middle_column = matrix[:, 2]\n",
    "middle_sum = np.sum(middle_row) + np.sum(middle_column) - matrix[1, 2]\n",
    "print(\"Sum of the middle row and column:\", middle_sum)"
   ]
  },
  {
   "cell_type": "code",
   "execution_count": 26,
   "id": "540bcc44",
   "metadata": {},
   "outputs": [
    {
     "name": "stdout",
     "output_type": "stream",
     "text": [
      "Indices of 'abcd' in 'adabcdabcabcdbdaabbabaaaabcd': [2, 9, 24]\n"
     ]
    }
   ],
   "source": [
    "def find_all_indices(main_string, substring):\n",
    "    indices = []\n",
    "    start = 0\n",
    "    while start < len(main_string):\n",
    "        index = main_string.find(substring, start)\n",
    "        if index == -1:\n",
    "            break\n",
    "        indices.append(index)\n",
    "        start = index + 1\n",
    "    return indices\n",
    "main_string = \"adabcdabcabcdbdaabbabaaaabcd\"\n",
    "substring = \"abcd\"\n",
    "indices = find_all_indices(main_string, substring)\n",
    "print(\"Indices of '{}' in '{}': {}\".format(substring, main_string, indices))"
   ]
  },
  {
   "cell_type": "code",
   "execution_count": 27,
   "id": "058697e2",
   "metadata": {},
   "outputs": [
    {
     "name": "stdout",
     "output_type": "stream",
     "text": [
      "-550\n"
     ]
    }
   ],
   "source": [
    "def multiply(x,y):\n",
    "\n",
    "    if(y == 0):\n",
    "        return 0\n",
    "\n",
    "    if(y > 0 ):\n",
    "        return (x + multiply(x, y - 1))\n",
    " \n",
    "    if(y < 0 ):\n",
    "        return -multiply(x, -y)\n",
    "\n",
    "print(multiply(50, -11))"
   ]
  },
  {
   "cell_type": "code",
   "execution_count": 28,
   "id": "efd3d44a",
   "metadata": {},
   "outputs": [
    {
     "name": "stdout",
     "output_type": "stream",
     "text": [
      "1. AX\n",
      "2. AY\n",
      "3. AZ\n",
      "4. BX\n",
      "5. BY\n",
      "6. BZ\n",
      "7. CX\n",
      "8. CY\n",
      "9. CZ\n"
     ]
    }
   ],
   "source": [
    "def multiply_alphabets(num1, num2):\n",
    "    results = []\n",
    "    \n",
    "    for char1 in num1:\n",
    "        for char2 in num2:\n",
    "            result = char1 + char2\n",
    "            results.append(result)\n",
    "    \n",
    "    return results\n",
    "\n",
    "\n",
    "number1 = \"ABC\"\n",
    "number2 = \"XYZ\"\n",
    "\n",
    "result_list = multiply_alphabets(number1, number2)\n",
    "\n",
    "for i, result in enumerate(result_list, start=1):\n",
    "    print(f\"{i}. {result}\")"
   ]
  },
  {
   "cell_type": "code",
   "execution_count": 29,
   "id": "f027db14",
   "metadata": {},
   "outputs": [
    {
     "name": "stdout",
     "output_type": "stream",
     "text": [
      "['tw', 'tx', 'ty', 'tz', 'uw', 'ux', 'uy', 'uz', 'vw', 'vx', 'vy', 'vz']\n"
     ]
    }
   ],
   "source": [
    "number_to_letters = {\n",
    "    '1': '00',\n",
    "    '2': 'abc',\n",
    "    '3': 'def',\n",
    "    '4': 'ghi',\n",
    "    '5': 'jkl',\n",
    "    '6': 'mno',\n",
    "    '7': 'pqrs',\n",
    "    '8': 'tuv',\n",
    "    '9': 'wxyz'\n",
    "}\n",
    "def generate_combinations(numbers):\n",
    "    if len(numbers) == 0:\n",
    "        return [''] \n",
    "    first_digit = numbers[0]\n",
    "    remaining_digits = numbers[1:]\n",
    "    remaining_combinations = generate_combinations(remaining_digits)\n",
    "    letters = number_to_letters[first_digit]\n",
    "    combinations = [letter + combo for letter in letters for combo in remaining_combinations]\n",
    "    return combinations\n",
    "input_numbers = \"89\"  \n",
    "input_digits = list(input_numbers)\n",
    "combinations = generate_combinations(input_digits)\n",
    "print(combinations)"
   ]
  },
  {
   "cell_type": "code",
   "execution_count": 30,
   "id": "4cec34b9",
   "metadata": {},
   "outputs": [
    {
     "name": "stdout",
     "output_type": "stream",
     "text": [
      "Elements in alternate levels:\n",
      "1 \n",
      "\n",
      "4 5 6 \n"
     ]
    }
   ],
   "source": [
    "class TreeNode:\n",
    "    def __init__(self, value):\n",
    "        self.value = value\n",
    "        self.left = None\n",
    "        self.right = None\n",
    "\n",
    "def print_alternate_levels(root):\n",
    "    if not root:\n",
    "        return\n",
    "\n",
    "    queue = []\n",
    "    level = 0\n",
    "\n",
    "    queue.append(root)\n",
    "\n",
    "    while queue:\n",
    "        level_size = len(queue)\n",
    "\n",
    "        for i in range(level_size):\n",
    "            current = queue.pop(0)\n",
    "\n",
    "            if level % 2 == 0:\n",
    "                print(current.value, end=\" \")\n",
    "\n",
    "            if current.left:\n",
    "                queue.append(current.left)\n",
    "            if current.right:\n",
    "                queue.append(current.right)\n",
    "\n",
    "        level += 1\n",
    "        print()\n",
    "\n",
    "root = TreeNode(1)\n",
    "root.left = TreeNode(2)\n",
    "root.right = TreeNode(3)\n",
    "root.left.left = TreeNode(4)\n",
    "root.left.right = TreeNode(5)\n",
    "root.right.right = TreeNode(6)\n",
    "\n",
    "print(\"Elements in alternate levels:\")\n",
    "print_alternate_levels(root)\n"
   ]
  },
  {
   "cell_type": "code",
   "execution_count": 31,
   "id": "3e9cf3c5",
   "metadata": {},
   "outputs": [
    {
     "name": "stdout",
     "output_type": "stream",
     "text": [
      "Original Matrix:\n",
      "0 1 1 1\n",
      "1 1 0 1\n",
      "1 0 0 1\n",
      "\n",
      "Matrix after flipping all sides zeros to ones:\n",
      "1 1 1 1\n",
      "1 1 0 1\n",
      "1 1 1 1\n",
      "Number of flips used: 3\n"
     ]
    }
   ],
   "source": [
    "def count_flips_to_all_sides_ones(matrix):\n",
    "    flips = 0\n",
    "    rows, cols = len(matrix), len(matrix[0])\n",
    "    for i in range(cols):\n",
    "        if matrix[0][i] == 0:\n",
    "            matrix[0][i] = 1\n",
    "            flips += 1\n",
    "        if matrix[rows - 1][i] == 0:\n",
    "            matrix[rows - 1][i] = 1\n",
    "            flips += 1\n",
    "    for i in range(rows):\n",
    "        if matrix[i][0] == 0:\n",
    "            matrix[i][0] = 1\n",
    "            flips += 1\n",
    "        if matrix[i][cols - 1] == 0:\n",
    "            matrix[i][cols - 1] = 1\n",
    "            flips += 1\n",
    "    return flips\n",
    "matrix = [[0, 1, 1, 1],\n",
    "          [1, 1, 0, 1],\n",
    "          [1, 0, 0, 1]]\n",
    "print(\"Original Matrix:\")\n",
    "for row in matrix:\n",
    "    print(' '.join(map(str, row)))\n",
    "flips_used = count_flips_to_all_sides_ones(matrix)\n",
    "print(\"\\nMatrix after flipping all sides zeros to ones:\")\n",
    "for row in matrix:\n",
    "    print(' '.join(map(str, row))\n",
    "         )\n",
    "print(\"Number of flips used:\", flips_used)\n"
   ]
  },
  {
   "cell_type": "code",
   "execution_count": 32,
   "id": "efad468b",
   "metadata": {},
   "outputs": [
    {
     "name": "stdout",
     "output_type": "stream",
     "text": [
      "2 3\n",
      "1 2\n",
      "2 2 100\n",
      "[[1, 2]]\n",
      "[[2, 2, 100]]\n",
      "100\n"
     ]
    }
   ],
   "source": [
    "N, D = map(int, input().split())\n",
    "l1 = []\n",
    "curse = 0\n",
    "\n",
    "for i in range(N):\n",
    "    x = list(map(int, input().split()))\n",
    "    l1.append(x)\n",
    "d=0\n",
    "while l1:\n",
    "    small = min(x[0] for x in l1)\n",
    "    lec = [x for x in l1 if x [0] == small]\n",
    "    print(lec)\n",
    "    lect=lec[0]\n",
    "    count=0\n",
    "    while D!=0:\n",
    "        if D>=lect[1]:\n",
    "            D=D-lect[1]\n",
    "        else:\n",
    "            D=D-1\n",
    "            count=count-1\n",
    "    if count==0:\n",
    "        curse=lect[2]\n",
    "    l1.remove(lect)\n",
    "print(curse)\n"
   ]
  },
  {
   "cell_type": "code",
   "execution_count": 33,
   "id": "de6e9268",
   "metadata": {},
   "outputs": [
    {
     "name": "stdout",
     "output_type": "stream",
     "text": [
      "4 4\n",
      "1 2 3\n",
      "1 3 2\n",
      "2 4 2\n",
      "3 4 3\n",
      "0\n",
      "5\n"
     ]
    }
   ],
   "source": [
    "import heapq\n",
    "def dijkstra(n, edges, unsafe):\n",
    "    distances = [float('inf')] * (n + 1)\n",
    "    distances[1] = 0\n",
    "    pq = [(0, 1)]\n",
    "    while pq:\n",
    "        time, node = heapq.heappop(pq)\n",
    "        if node == n:\n",
    "            return time\n",
    "        for neighbor, weight in edges[node]:\n",
    "            temp_time = time + weight\n",
    "            while temp_time in unsafe[neighbor]:\n",
    "                temp_time += 1\n",
    "\n",
    "            if temp_time < distances[neighbor]:\n",
    "                distances[neighbor] = temp_time\n",
    "                heapq.heappush(pq, (temp_time, neighbor))\n",
    "    return distances[n]\n",
    "n, m = map(int, input().split())\n",
    "edges = [[] for _ in range(n + 1)]\n",
    "unsafe = {i: set() for i in range(1, n + 1)}\n",
    "for _ in range(m):\n",
    "    x, y, t = map(int, input().split())\n",
    "    edges[x].append((y, t))\n",
    "k = int(input())\n",
    "for _ in range(k):\n",
    "    x, t = map(int, input().split())\n",
    "    unsafe[x].add(t)\n",
    "result = dijkstra(n, edges, unsafe)\n",
    "print(result)"
   ]
  },
  {
   "cell_type": "code",
   "execution_count": null,
   "id": "86f0d594",
   "metadata": {},
   "outputs": [],
   "source": []
  }
 ],
 "metadata": {
  "kernelspec": {
   "display_name": "Python 3 (ipykernel)",
   "language": "python",
   "name": "python3"
  },
  "language_info": {
   "codemirror_mode": {
    "name": "ipython",
    "version": 3
   },
   "file_extension": ".py",
   "mimetype": "text/x-python",
   "name": "python",
   "nbconvert_exporter": "python",
   "pygments_lexer": "ipython3",
   "version": "3.10.9"
  }
 },
 "nbformat": 4,
 "nbformat_minor": 5
}
